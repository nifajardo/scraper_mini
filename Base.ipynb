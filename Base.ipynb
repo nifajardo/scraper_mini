{
 "cells": [
  {
   "cell_type": "code",
   "execution_count": 2,
   "id": "31e50df1",
   "metadata": {},
   "outputs": [
    {
     "name": "stdout",
     "output_type": "stream",
     "text": [
      "Collecting selenium\n",
      "  Obtaining dependency information for selenium from https://files.pythonhosted.org/packages/10/56/8288d1813a68c1e0638515dbb777fce6d87d0d240e683216f956145310e6/selenium-4.11.2-py3-none-any.whl.metadata\n",
      "  Downloading selenium-4.11.2-py3-none-any.whl.metadata (7.0 kB)\n",
      "Collecting urllib3[socks]<3,>=1.26 (from selenium)\n",
      "  Obtaining dependency information for urllib3[socks]<3,>=1.26 from https://files.pythonhosted.org/packages/9b/81/62fd61001fa4b9d0df6e31d47ff49cfa9de4af03adecf339c7bc30656b37/urllib3-2.0.4-py3-none-any.whl.metadata\n",
      "  Downloading urllib3-2.0.4-py3-none-any.whl.metadata (6.6 kB)\n",
      "Collecting trio~=0.17 (from selenium)\n",
      "  Obtaining dependency information for trio~=0.17 from https://files.pythonhosted.org/packages/a3/dd/b61fa61b186d3267ef3903048fbee29132963ae762fb70b08d4a3cd6f7aa/trio-0.22.2-py3-none-any.whl.metadata\n",
      "  Downloading trio-0.22.2-py3-none-any.whl.metadata (4.7 kB)\n",
      "Collecting trio-websocket~=0.9 (from selenium)\n",
      "  Obtaining dependency information for trio-websocket~=0.9 from https://files.pythonhosted.org/packages/a5/a6/06e2373f95c12e9e8f6b910a76c86e375348ead77ab476230640666310fb/trio_websocket-0.10.3-py3-none-any.whl.metadata\n",
      "  Downloading trio_websocket-0.10.3-py3-none-any.whl.metadata (4.6 kB)\n",
      "Collecting certifi>=2021.10.8 (from selenium)\n",
      "  Obtaining dependency information for certifi>=2021.10.8 from https://files.pythonhosted.org/packages/4c/dd/2234eab22353ffc7d94e8d13177aaa050113286e93e7b40eae01fbf7c3d9/certifi-2023.7.22-py3-none-any.whl.metadata\n",
      "  Downloading certifi-2023.7.22-py3-none-any.whl.metadata (2.2 kB)\n",
      "Requirement already satisfied: attrs>=20.1.0 in d:\\anacondae\\envs\\test\\lib\\site-packages (from trio~=0.17->selenium) (22.1.0)\n",
      "Collecting sortedcontainers (from trio~=0.17->selenium)\n",
      "  Downloading sortedcontainers-2.4.0-py2.py3-none-any.whl (29 kB)\n",
      "Requirement already satisfied: idna in d:\\anacondae\\envs\\test\\lib\\site-packages (from trio~=0.17->selenium) (3.4)\n",
      "Collecting outcome (from trio~=0.17->selenium)\n",
      "  Downloading outcome-1.2.0-py2.py3-none-any.whl (9.7 kB)\n",
      "Requirement already satisfied: sniffio in d:\\anacondae\\envs\\test\\lib\\site-packages (from trio~=0.17->selenium) (1.2.0)\n",
      "Requirement already satisfied: cffi>=1.14 in d:\\anacondae\\envs\\test\\lib\\site-packages (from trio~=0.17->selenium) (1.15.1)\n",
      "Collecting exceptiongroup>=1.0.0rc9 (from trio~=0.17->selenium)\n",
      "  Obtaining dependency information for exceptiongroup>=1.0.0rc9 from https://files.pythonhosted.org/packages/fe/17/f43b7c9ccf399d72038042ee72785c305f6c6fdc6231942f8ab99d995742/exceptiongroup-1.1.2-py3-none-any.whl.metadata\n",
      "  Downloading exceptiongroup-1.1.2-py3-none-any.whl.metadata (6.1 kB)\n",
      "Collecting wsproto>=0.14 (from trio-websocket~=0.9->selenium)\n",
      "  Downloading wsproto-1.2.0-py3-none-any.whl (24 kB)\n",
      "Collecting pysocks!=1.5.7,<2.0,>=1.5.6 (from urllib3[socks]<3,>=1.26->selenium)\n",
      "  Downloading PySocks-1.7.1-py3-none-any.whl (16 kB)\n",
      "Requirement already satisfied: pycparser in d:\\anacondae\\envs\\test\\lib\\site-packages (from cffi>=1.14->trio~=0.17->selenium) (2.21)\n",
      "Collecting h11<1,>=0.9.0 (from wsproto>=0.14->trio-websocket~=0.9->selenium)\n",
      "  Downloading h11-0.14.0-py3-none-any.whl (58 kB)\n",
      "     ---------------------------------------- 0.0/58.3 kB ? eta -:--:--\n",
      "     ---------------------------------------- 0.0/58.3 kB ? eta -:--:--\n",
      "     ---------------------------------------- 0.0/58.3 kB ? eta -:--:--\n",
      "     ---------------------------------------- 0.0/58.3 kB ? eta -:--:--\n",
      "     ---------------------------------------- 0.0/58.3 kB ? eta -:--:--\n",
      "     ---------------------------------------- 0.0/58.3 kB ? eta -:--:--\n",
      "     ---------------------------------------- 0.0/58.3 kB ? eta -:--:--\n",
      "     ---------------------------------------- 0.0/58.3 kB ? eta -:--:--\n",
      "     ---------------------------------------- 0.0/58.3 kB ? eta -:--:--\n",
      "     ---------------------------------------- 0.0/58.3 kB ? eta -:--:--\n",
      "     ---------------------------------------- 0.0/58.3 kB ? eta -:--:--\n",
      "     ---------------------------------------- 0.0/58.3 kB ? eta -:--:--\n",
      "     ---------------------------------------- 0.0/58.3 kB ? eta -:--:--\n",
      "     ---------------------------------------- 0.0/58.3 kB ? eta -:--:--\n",
      "     ---------------------------------------- 0.0/58.3 kB ? eta -:--:--\n",
      "     ---------------------------------------- 0.0/58.3 kB ? eta -:--:--\n",
      "     ---------------------------------------- 0.0/58.3 kB ? eta -:--:--\n",
      "     ---------------------------------------- 0.0/58.3 kB ? eta -:--:--\n",
      "     ------- -------------------------------- 10.2/58.3 kB ? eta -:--:--\n",
      "     ------- -------------------------------- 10.2/58.3 kB ? eta -:--:--\n",
      "     ------- -------------------------------- 10.2/58.3 kB ? eta -:--:--\n",
      "     ------- -------------------------------- 10.2/58.3 kB ? eta -:--:--\n",
      "     ------- -------------------------------- 10.2/58.3 kB ? eta -:--:--\n",
      "     ------- -------------------------------- 10.2/58.3 kB ? eta -:--:--\n",
      "     ------- -------------------------------- 10.2/58.3 kB ? eta -:--:--\n",
      "     ------- -------------------------------- 10.2/58.3 kB ? eta -:--:--\n",
      "     ------- -------------------------------- 10.2/58.3 kB ? eta -:--:--\n",
      "     ------- -------------------------------- 10.2/58.3 kB ? eta -:--:--\n",
      "     ------- -------------------------------- 10.2/58.3 kB ? eta -:--:--\n",
      "     ------- -------------------------------- 10.2/58.3 kB ? eta -:--:--\n",
      "     ------- -------------------------------- 10.2/58.3 kB ? eta -:--:--\n",
      "     ------- -------------------------------- 10.2/58.3 kB ? eta -:--:--\n",
      "     ------- -------------------------------- 10.2/58.3 kB ? eta -:--:--\n",
      "     ------- -------------------------------- 10.2/58.3 kB ? eta -:--:--\n",
      "     ------- -------------------------------- 10.2/58.3 kB ? eta -:--:--\n",
      "     ------- -------------------------------- 10.2/58.3 kB ? eta -:--:--\n",
      "     ------- -------------------------------- 10.2/58.3 kB ? eta -:--:--\n",
      "     ------- -------------------------------- 10.2/58.3 kB ? eta -:--:--\n",
      "     ------- -------------------------------- 10.2/58.3 kB ? eta -:--:--\n",
      "     ------- -------------------------------- 10.2/58.3 kB ? eta -:--:--\n",
      "     -------------------- ------------------ 30.7/58.3 kB 20.5 kB/s eta 0:00:02\n",
      "     -------------------- ------------------ 30.7/58.3 kB 20.5 kB/s eta 0:00:02\n",
      "     -------------------- ------------------ 30.7/58.3 kB 20.5 kB/s eta 0:00:02\n",
      "     -------------------- ------------------ 30.7/58.3 kB 20.5 kB/s eta 0:00:02\n",
      "     -------------------- ------------------ 30.7/58.3 kB 20.5 kB/s eta 0:00:02\n",
      "     -------------------- ------------------ 30.7/58.3 kB 20.5 kB/s eta 0:00:02\n",
      "     -------------------- ------------------ 30.7/58.3 kB 20.5 kB/s eta 0:00:02\n",
      "     -------------------- ------------------ 30.7/58.3 kB 20.5 kB/s eta 0:00:02\n",
      "     -------------------- ------------------ 30.7/58.3 kB 20.5 kB/s eta 0:00:02\n",
      "     -------------------- ------------------ 30.7/58.3 kB 20.5 kB/s eta 0:00:02\n",
      "     -------------------- ------------------ 30.7/58.3 kB 20.5 kB/s eta 0:00:02\n",
      "     -------------------- ------------------ 30.7/58.3 kB 20.5 kB/s eta 0:00:02\n",
      "     -------------------- ------------------ 30.7/58.3 kB 20.5 kB/s eta 0:00:02\n",
      "     -------------------- ------------------ 30.7/58.3 kB 20.5 kB/s eta 0:00:02\n",
      "     -------------------- ------------------ 30.7/58.3 kB 20.5 kB/s eta 0:00:02\n",
      "     -------------------- ------------------ 30.7/58.3 kB 20.5 kB/s eta 0:00:02\n",
      "     -------------------- ------------------ 30.7/58.3 kB 20.5 kB/s eta 0:00:02\n",
      "     -------------------- ------------------ 30.7/58.3 kB 20.5 kB/s eta 0:00:02\n",
      "     -------------------- ------------------ 30.7/58.3 kB 20.5 kB/s eta 0:00:02\n",
      "     --------------------------- ----------- 41.0/58.3 kB 16.0 kB/s eta 0:00:02\n",
      "     --------------------------- ----------- 41.0/58.3 kB 16.0 kB/s eta 0:00:02\n",
      "     --------------------------- ----------- 41.0/58.3 kB 16.0 kB/s eta 0:00:02\n",
      "     --------------------------- ----------- 41.0/58.3 kB 16.0 kB/s eta 0:00:02\n",
      "     --------------------------- ----------- 41.0/58.3 kB 16.0 kB/s eta 0:00:02\n",
      "     --------------------------- ----------- 41.0/58.3 kB 16.0 kB/s eta 0:00:02\n",
      "     --------------------------- ----------- 41.0/58.3 kB 16.0 kB/s eta 0:00:02\n",
      "     --------------------------- ----------- 41.0/58.3 kB 16.0 kB/s eta 0:00:02\n",
      "     --------------------------- ----------- 41.0/58.3 kB 16.0 kB/s eta 0:00:02\n",
      "     --------------------------- ----------- 41.0/58.3 kB 16.0 kB/s eta 0:00:02\n",
      "     --------------------------- ----------- 41.0/58.3 kB 16.0 kB/s eta 0:00:02\n",
      "     --------------------------------------- 58.3/58.3 kB 19.8 kB/s eta 0:00:00\n",
      "Downloading selenium-4.11.2-py3-none-any.whl (7.2 MB)\n",
      "   ---------------------------------------- 0.0/7.2 MB ? eta -:--:--\n",
      "   ---------------------------------------- 0.0/7.2 MB ? eta -:--:--\n",
      "   ---------------------------------------- 0.0/7.2 MB ? eta -:--:--\n",
      "   ---------------------------------------- 0.0/7.2 MB ? eta -:--:--\n",
      "   ---------------------------------------- 0.0/7.2 MB ? eta -:--:--\n",
      "   ---------------------------------------- 0.0/7.2 MB ? eta -:--:--\n",
      "   ---------------------------------------- 0.0/7.2 MB ? eta -:--:--\n",
      "   ---------------------------------------- 0.0/7.2 MB ? eta -:--:--\n",
      "   ---------------------------------------- 0.0/7.2 MB ? eta -:--:--\n",
      "   ---------------------------------------- 0.0/7.2 MB 217.9 kB/s eta 0:00:33\n",
      "   ---------------------------------------- 0.0/7.2 MB 196.9 kB/s eta 0:00:37\n",
      "   ---------------------------------------- 0.1/7.2 MB 302.7 kB/s eta 0:00:24\n",
      "   -- ------------------------------------- 0.4/7.2 MB 1.5 MB/s eta 0:00:05\n",
      "   ----- ---------------------------------- 0.9/7.2 MB 3.1 MB/s eta 0:00:03\n",
      "   --------- ------------------------------ 1.6/7.2 MB 4.7 MB/s eta 0:00:02\n",
      "   -------------- ------------------------- 2.7/7.2 MB 6.9 MB/s eta 0:00:01\n",
      "   ---------------------- ----------------- 4.0/7.2 MB 9.0 MB/s eta 0:00:01\n",
      "   ---------------------------- ----------- 5.1/7.2 MB 10.5 MB/s eta 0:00:01\n",
      "   ---------------------------------- ----- 6.3/7.2 MB 11.8 MB/s eta 0:00:01\n",
      "   ---------------------------------------  7.2/7.2 MB 12.8 MB/s eta 0:00:01\n",
      "   ---------------------------------------- 7.2/7.2 MB 12.4 MB/s eta 0:00:00\n",
      "Downloading certifi-2023.7.22-py3-none-any.whl (158 kB)\n",
      "   ---------------------------------------- 0.0/158.3 kB ? eta -:--:--\n",
      "   ---------------------------------------- 158.3/158.3 kB ? eta 0:00:00\n",
      "Downloading trio-0.22.2-py3-none-any.whl (400 kB)\n",
      "   ---------------------------------------- 0.0/400.2 kB ? eta -:--:--\n",
      "   --------------------------------------- 400.2/400.2 kB 24.4 MB/s eta 0:00:00\n",
      "Downloading trio_websocket-0.10.3-py3-none-any.whl (17 kB)\n",
      "Downloading exceptiongroup-1.1.2-py3-none-any.whl (14 kB)\n",
      "Downloading urllib3-2.0.4-py3-none-any.whl (123 kB)\n",
      "   ---------------------------------------- 0.0/123.9 kB ? eta -:--:--\n",
      "   ------------- -------------------------- 41.0/123.9 kB ? eta -:--:--\n",
      "   ------------- -------------------------- 41.0/123.9 kB ? eta -:--:--\n",
      "   ------------- -------------------------- 41.0/123.9 kB ? eta -:--:--\n",
      "   ------------------- ------------------- 61.4/123.9 kB 328.2 kB/s eta 0:00:01\n",
      "   ------------------- ------------------- 61.4/123.9 kB 328.2 kB/s eta 0:00:01\n",
      "   ------------------- ------------------- 61.4/123.9 kB 328.2 kB/s eta 0:00:01\n",
      "   ------------------- ------------------- 61.4/123.9 kB 328.2 kB/s eta 0:00:01\n",
      "   ------------------- ------------------- 61.4/123.9 kB 328.2 kB/s eta 0:00:01\n",
      "   ------------------- ------------------- 61.4/123.9 kB 328.2 kB/s eta 0:00:01\n",
      "   ---------------------- ---------------- 71.7/123.9 kB 135.6 kB/s eta 0:00:01\n",
      "   ---------------------- ---------------- 71.7/123.9 kB 135.6 kB/s eta 0:00:01\n",
      "   ---------------------- ---------------- 71.7/123.9 kB 135.6 kB/s eta 0:00:01\n",
      "   ---------------------- ---------------- 71.7/123.9 kB 135.6 kB/s eta 0:00:01\n",
      "   ---------------------- ---------------- 71.7/123.9 kB 135.6 kB/s eta 0:00:01\n",
      "   ----------------------------- --------- 92.2/123.9 kB 116.5 kB/s eta 0:00:01\n",
      "   ----------------------------- --------- 92.2/123.9 kB 116.5 kB/s eta 0:00:01\n",
      "   ----------------------------- --------- 92.2/123.9 kB 116.5 kB/s eta 0:00:01\n",
      "   ----------------------------- --------- 92.2/123.9 kB 116.5 kB/s eta 0:00:01\n",
      "   ----------------------------- --------- 92.2/123.9 kB 116.5 kB/s eta 0:00:01\n",
      "   ----------------------------- --------- 92.2/123.9 kB 116.5 kB/s eta 0:00:01\n",
      "   ---------------------------------- --- 112.6/123.9 kB 105.7 kB/s eta 0:00:01\n",
      "   ---------------------------------- --- 112.6/123.9 kB 105.7 kB/s eta 0:00:01\n",
      "   ---------------------------------- --- 112.6/123.9 kB 105.7 kB/s eta 0:00:01\n",
      "   -------------------------------------- 123.9/123.9 kB 102.5 kB/s eta 0:00:00\n",
      "Installing collected packages: sortedcontainers, urllib3, pysocks, outcome, h11, exceptiongroup, certifi, wsproto, trio, trio-websocket, selenium\n",
      "Successfully installed certifi-2023.7.22 exceptiongroup-1.1.2 h11-0.14.0 outcome-1.2.0 pysocks-1.7.1 selenium-4.11.2 sortedcontainers-2.4.0 trio-0.22.2 trio-websocket-0.10.3 urllib3-2.0.4 wsproto-1.2.0\n",
      "Note: you may need to restart the kernel to use updated packages.\n"
     ]
    }
   ],
   "source": [
    "# pip install selenium\n"
   ]
  },
  {
   "cell_type": "code",
   "execution_count": 10,
   "id": "12480c3c",
   "metadata": {},
   "outputs": [
    {
     "name": "stderr",
     "output_type": "stream",
     "text": [
      "The chromedriver version (114.0.5735.90) detected in PATH at C:\\Users\\gelib\\New Scraper\\chromedriver.exe might not be compatible with the detected chrome version (115.0.5790.171); currently, chromedriver 115.0.5790.170 is recommended for chrome 115.*, so it is advised to delete the driver in PATH and retry\n"
     ]
    }
   ],
   "source": [
    "from selenium import webdriver\n",
    "import os.path\n",
    "\n",
    "# driver = webdriver.Chrome()\n",
    "# driver.get(\"https://facebook.com\")\n"
   ]
  },
  {
   "cell_type": "code",
   "execution_count": 8,
   "id": "9c4a2f96",
   "metadata": {},
   "outputs": [
    {
     "name": "stderr",
     "output_type": "stream",
     "text": [
      "The chromedriver version (114.0.5735.90) detected in PATH at C:\\Users\\gelib\\New Scraper\\chromedriver.exe might not be compatible with the detected chrome version (115.0.5790.171); currently, chromedriver 115.0.5790.170 is recommended for chrome 115.*, so it is advised to delete the driver in PATH and retry\n"
     ]
    }
   ],
   "source": [
    "\n"
   ]
  },
  {
   "cell_type": "code",
   "execution_count": 12,
   "id": "198330fd",
   "metadata": {},
   "outputs": [
    {
     "name": "stderr",
     "output_type": "stream",
     "text": [
      "The chromedriver version (114.0.5735.90) detected in PATH at C:\\Users\\gelib\\New Scraper\\chromedriver.exe might not be compatible with the detected chrome version (115.0.5790.171); currently, chromedriver 115.0.5790.170 is recommended for chrome 115.*, so it is advised to delete the driver in PATH and retry\n"
     ]
    }
   ],
   "source": [
    "# browser opener\n",
    "driver = webdriver.Chrome()\n",
    "\n",
    "\n",
    "# opens the given site in the browser\n",
    "def openBrowser(link): \n",
    "    driver.get(link)"
   ]
  },
  {
   "cell_type": "code",
   "execution_count": 13,
   "id": "8571fc6d",
   "metadata": {},
   "outputs": [],
   "source": [
    "# browser closer\n",
    "def closeBrowser():\n",
    "    driver.close()"
   ]
  },
  {
   "cell_type": "code",
   "execution_count": null,
   "id": "129b8c2a",
   "metadata": {},
   "outputs": [],
   "source": [
    "\n",
    "# progression log\n"
   ]
  },
  {
   "cell_type": "code",
   "execution_count": null,
   "id": "2188da91",
   "metadata": {},
   "outputs": [],
   "source": [
    "# progression reader\n"
   ]
  },
  {
   "cell_type": "code",
   "execution_count": null,
   "id": "9bc37699",
   "metadata": {},
   "outputs": [],
   "source": []
  },
  {
   "cell_type": "code",
   "execution_count": null,
   "id": "236b8381",
   "metadata": {},
   "outputs": [],
   "source": []
  },
  {
   "cell_type": "code",
   "execution_count": null,
   "id": "ad25d9ce",
   "metadata": {},
   "outputs": [],
   "source": []
  },
  {
   "cell_type": "code",
   "execution_count": null,
   "id": "7769a454",
   "metadata": {},
   "outputs": [],
   "source": []
  },
  {
   "cell_type": "code",
   "execution_count": null,
   "id": "49485f0a",
   "metadata": {},
   "outputs": [],
   "source": []
  },
  {
   "cell_type": "code",
   "execution_count": null,
   "id": "c5c56923",
   "metadata": {},
   "outputs": [],
   "source": []
  },
  {
   "cell_type": "code",
   "execution_count": null,
   "id": "9c966719",
   "metadata": {},
   "outputs": [],
   "source": []
  },
  {
   "cell_type": "code",
   "execution_count": null,
   "id": "49166f0d",
   "metadata": {},
   "outputs": [],
   "source": []
  }
 ],
 "metadata": {
  "kernelspec": {
   "display_name": "Python 3 (ipykernel)",
   "language": "python",
   "name": "python3"
  },
  "language_info": {
   "codemirror_mode": {
    "name": "ipython",
    "version": 3
   },
   "file_extension": ".py",
   "mimetype": "text/x-python",
   "name": "python",
   "nbconvert_exporter": "python",
   "pygments_lexer": "ipython3",
   "version": "3.8.17"
  }
 },
 "nbformat": 4,
 "nbformat_minor": 5
}
